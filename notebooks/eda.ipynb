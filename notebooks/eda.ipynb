{
 "cells": [
  {
   "cell_type": "code",
   "execution_count": 2,
   "id": "f6d456ba",
   "metadata": {},
   "outputs": [],
   "source": [
    "import polars as pl\n",
    "\n",
    "base_dir = '../data/mitsui-commodity-prediction-challenge'\n",
    "train_dir = '/train.csv'\n",
    "train_labels_dir = '/train_labels.csv'\n",
    "target_pairs_dir = '/target_pairs.csv'"
   ]
  },
  {
   "cell_type": "code",
   "execution_count": 14,
   "id": "a11eb9af",
   "metadata": {},
   "outputs": [
    {
     "data": {
      "text/html": [
       "<div><style>\n",
       ".dataframe > thead > tr,\n",
       ".dataframe > tbody > tr {\n",
       "  text-align: right;\n",
       "  white-space: pre-wrap;\n",
       "}\n",
       "</style>\n",
       "<small>shape: (1_917, 558)</small><table border=\"1\" class=\"dataframe\"><thead><tr><th>date_id</th><th>LME_AH_Close</th><th>LME_CA_Close</th><th>LME_PB_Close</th><th>LME_ZS_Close</th><th>JPX_Gold_Mini_Futures_Open</th><th>JPX_Gold_Rolling-Spot_Futures_Open</th><th>JPX_Gold_Standard_Futures_Open</th><th>JPX_Platinum_Mini_Futures_Open</th><th>JPX_Platinum_Standard_Futures_Open</th><th>JPX_RSS3_Rubber_Futures_Open</th><th>JPX_Gold_Mini_Futures_High</th><th>JPX_Gold_Rolling-Spot_Futures_High</th><th>JPX_Gold_Standard_Futures_High</th><th>JPX_Platinum_Mini_Futures_High</th><th>JPX_Platinum_Standard_Futures_High</th><th>JPX_RSS3_Rubber_Futures_High</th><th>JPX_Gold_Mini_Futures_Low</th><th>JPX_Gold_Rolling-Spot_Futures_Low</th><th>JPX_Gold_Standard_Futures_Low</th><th>JPX_Platinum_Mini_Futures_Low</th><th>JPX_Platinum_Standard_Futures_Low</th><th>JPX_RSS3_Rubber_Futures_Low</th><th>JPX_Gold_Mini_Futures_Close</th><th>JPX_Gold_Rolling-Spot_Futures_Close</th><th>JPX_Gold_Standard_Futures_Close</th><th>JPX_Platinum_Mini_Futures_Close</th><th>JPX_Platinum_Standard_Futures_Close</th><th>JPX_RSS3_Rubber_Futures_Close</th><th>JPX_Gold_Mini_Futures_Volume</th><th>JPX_Gold_Rolling-Spot_Futures_Volume</th><th>JPX_Gold_Standard_Futures_Volume</th><th>JPX_Platinum_Mini_Futures_Volume</th><th>JPX_Platinum_Standard_Futures_Volume</th><th>JPX_RSS3_Rubber_Futures_Volume</th><th>JPX_Gold_Mini_Futures_settlement_price</th><th>JPX_Gold_Rolling-Spot_Futures_settlement_price</th><th>&hellip;</th><th>FX_AUDUSD</th><th>FX_CADJPY</th><th>FX_CHFJPY</th><th>FX_EURAUD</th><th>FX_EURGBP</th><th>FX_EURJPY</th><th>FX_EURUSD</th><th>FX_GBPAUD</th><th>FX_GBPJPY</th><th>FX_GBPUSD</th><th>FX_NZDJPY</th><th>FX_NZDUSD</th><th>FX_USDCHF</th><th>FX_USDJPY</th><th>FX_ZARJPY</th><th>FX_ZARUSD</th><th>FX_NOKUSD</th><th>FX_NOKEUR</th><th>FX_CADUSD</th><th>FX_AUDNZD</th><th>FX_EURCHF</th><th>FX_EURCAD</th><th>FX_AUDCAD</th><th>FX_GBPCHF</th><th>FX_EURNZD</th><th>FX_AUDCHF</th><th>FX_GBPNZD</th><th>FX_GBPCAD</th><th>FX_CADCHF</th><th>FX_NZDCAD</th><th>FX_NZDCHF</th><th>FX_ZAREUR</th><th>FX_NOKGBP</th><th>FX_NOKCHF</th><th>FX_ZARCHF</th><th>FX_NOKJPY</th><th>FX_ZARGBP</th></tr><tr><td>i64</td><td>f64</td><td>f64</td><td>f64</td><td>f64</td><td>f64</td><td>f64</td><td>f64</td><td>f64</td><td>f64</td><td>f64</td><td>f64</td><td>f64</td><td>f64</td><td>f64</td><td>f64</td><td>f64</td><td>f64</td><td>f64</td><td>f64</td><td>f64</td><td>f64</td><td>f64</td><td>f64</td><td>f64</td><td>f64</td><td>f64</td><td>f64</td><td>f64</td><td>f64</td><td>f64</td><td>f64</td><td>f64</td><td>f64</td><td>f64</td><td>f64</td><td>f64</td><td>&hellip;</td><td>f64</td><td>f64</td><td>f64</td><td>f64</td><td>f64</td><td>f64</td><td>f64</td><td>f64</td><td>f64</td><td>f64</td><td>f64</td><td>f64</td><td>f64</td><td>f64</td><td>f64</td><td>f64</td><td>f64</td><td>f64</td><td>f64</td><td>f64</td><td>f64</td><td>f64</td><td>f64</td><td>f64</td><td>f64</td><td>f64</td><td>f64</td><td>f64</td><td>f64</td><td>f64</td><td>f64</td><td>f64</td><td>f64</td><td>f64</td><td>f64</td><td>f64</td><td>f64</td></tr></thead><tbody><tr><td>0</td><td>2264.5</td><td>7205.0</td><td>2570.0</td><td>3349.0</td><td>null</td><td>null</td><td>null</td><td>null</td><td>null</td><td>null</td><td>null</td><td>null</td><td>null</td><td>null</td><td>null</td><td>null</td><td>null</td><td>null</td><td>null</td><td>null</td><td>null</td><td>null</td><td>null</td><td>null</td><td>null</td><td>null</td><td>null</td><td>null</td><td>null</td><td>null</td><td>null</td><td>null</td><td>null</td><td>null</td><td>null</td><td>null</td><td>&hellip;</td><td>0.783393</td><td>89.764583</td><td>115.545884</td><td>1.540368</td><td>0.887622</td><td>135.44991</td><td>1.206713</td><td>1.735387</td><td>152.598635</td><td>1.35949</td><td>79.721293</td><td>0.710231</td><td>0.97145</td><td>112.247002</td><td>9.028141</td><td>0.080431</td><td>0.123146</td><td>0.102051</td><td>0.799706</td><td>1.103011</td><td>1.172261</td><td>1.508946</td><td>0.979601</td><td>1.320676</td><td>1.699043</td><td>0.761027</td><td>1.914152</td><td>1.699987</td><td>0.776874</td><td>0.888115</td><td>0.689954</td><td>0.066653</td><td>0.090582</td><td>0.11963</td><td>0.078135</td><td>13.82274</td><td>0.059163</td></tr><tr><td>1</td><td>2228.0</td><td>7147.0</td><td>2579.0</td><td>3327.0</td><td>null</td><td>null</td><td>null</td><td>null</td><td>null</td><td>null</td><td>null</td><td>null</td><td>null</td><td>null</td><td>null</td><td>null</td><td>null</td><td>null</td><td>null</td><td>null</td><td>null</td><td>null</td><td>null</td><td>null</td><td>null</td><td>null</td><td>null</td><td>null</td><td>null</td><td>null</td><td>null</td><td>null</td><td>null</td><td>null</td><td>null</td><td>null</td><td>&hellip;</td><td>0.782779</td><td>89.731507</td><td>115.23516</td><td>1.534906</td><td>0.889248</td><td>135.272384</td><td>1.201492</td><td>1.726072</td><td>152.119947</td><td>1.351132</td><td>79.815128</td><td>0.70892</td><td>0.977019</td><td>112.586998</td><td>9.111194</td><td>0.080926</td><td>0.123355</td><td>0.102668</td><td>0.796997</td><td>1.104186</td><td>1.173881</td><td>1.507524</td><td>0.98216</td><td>1.320083</td><td>1.694821</td><td>0.76479</td><td>1.905904</td><td>1.695279</td><td>0.778682</td><td>0.889488</td><td>0.692628</td><td>0.067354</td><td>0.091297</td><td>0.12052</td><td>0.079066</td><td>13.888146</td><td>0.059895</td></tr><tr><td>2</td><td>2250.0</td><td>7188.5</td><td>2587.0</td><td>3362.0</td><td>4684.0</td><td>4691.0</td><td>4684.0</td><td>3363.0</td><td>3367.0</td><td>207.0</td><td>4735.0</td><td>4746.0</td><td>4735.0</td><td>3443.0</td><td>3449.0</td><td>207.7</td><td>4679.0</td><td>4688.0</td><td>4679.0</td><td>3362.0</td><td>3362.0</td><td>206.4</td><td>4727.0</td><td>4739.0</td><td>4730.0</td><td>3426.0</td><td>3427.0</td><td>206.9</td><td>2681.0</td><td>37908.0</td><td>30656.0</td><td>624.0</td><td>13713.0</td><td>4128.0</td><td>4730.0</td><td>4735.0</td><td>&hellip;</td><td>0.786472</td><td>90.306741</td><td>115.750255</td><td>1.535084</td><td>0.89083</td><td>136.176212</td><td>1.2073</td><td>1.723206</td><td>152.864365</td><td>1.355253</td><td>80.734616</td><td>0.71577</td><td>0.97446</td><td>112.793999</td><td>9.177484</td><td>0.081365</td><td>0.123975</td><td>0.102688</td><td>0.800634</td><td>1.098776</td><td>1.176466</td><td>1.50793</td><td>0.982311</td><td>1.32064</td><td>1.686714</td><td>0.766385</td><td>1.893418</td><td>1.692724</td><td>0.780186</td><td>0.894004</td><td>0.69749</td><td>0.067394</td><td>0.091478</td><td>0.120809</td><td>0.079287</td><td>13.983675</td><td>0.060037</td></tr><tr><td>3</td><td>2202.5</td><td>7121.0</td><td>2540.0</td><td>3354.0</td><td>4728.0</td><td>4737.0</td><td>4729.0</td><td>3430.0</td><td>3426.0</td><td>207.0</td><td>4795.0</td><td>4797.0</td><td>4789.0</td><td>3493.0</td><td>3494.0</td><td>207.6</td><td>4727.0</td><td>4734.0</td><td>4726.0</td><td>3430.0</td><td>3425.0</td><td>204.0</td><td>4778.0</td><td>4788.0</td><td>4780.0</td><td>3486.0</td><td>3486.0</td><td>204.8</td><td>3523.0</td><td>30791.0</td><td>35267.0</td><td>525.0</td><td>17629.0</td><td>4586.0</td><td>4780.0</td><td>4787.0</td><td>&hellip;</td><td>0.787461</td><td>91.079905</td><td>115.976719</td><td>1.527972</td><td>0.886809</td><td>135.945666</td><td>1.203219</td><td>1.723001</td><td>153.297609</td><td>1.356796</td><td>81.010025</td><td>0.716998</td><td>0.974204</td><td>112.985001</td><td>9.195264</td><td>0.081385</td><td>0.124225</td><td>0.103244</td><td>0.806124</td><td>1.098275</td><td>1.172181</td><td>1.492598</td><td>0.976849</td><td>1.321796</td><td>1.678134</td><td>0.767148</td><td>1.892329</td><td>1.683111</td><td>0.785329</td><td>0.889439</td><td>0.698502</td><td>0.067639</td><td>0.091558</td><td>0.121021</td><td>0.079285</td><td>14.035571</td><td>0.059983</td></tr><tr><td>4</td><td>2175.0</td><td>7125.0</td><td>2604.0</td><td>3386.0</td><td>null</td><td>null</td><td>null</td><td>null</td><td>null</td><td>null</td><td>null</td><td>null</td><td>null</td><td>null</td><td>null</td><td>null</td><td>null</td><td>null</td><td>null</td><td>null</td><td>null</td><td>null</td><td>null</td><td>null</td><td>null</td><td>null</td><td>null</td><td>null</td><td>null</td><td>null</td><td>null</td><td>null</td><td>null</td><td>null</td><td>null</td><td>null</td><td>&hellip;</td><td>0.784808</td><td>91.13646</td><td>115.763578</td><td>1.525623</td><td>0.882271</td><td>135.471018</td><td>1.197322</td><td>1.729201</td><td>153.54814</td><td>1.357092</td><td>81.206386</td><td>0.71772</td><td>0.97738</td><td>113.144997</td><td>9.136605</td><td>0.080751</td><td>0.123857</td><td>0.103445</td><td>0.805484</td><td>1.093475</td><td>1.170239</td><td>1.486463</td><td>0.974332</td><td>1.326394</td><td>1.668231</td><td>0.767056</td><td>1.890838</td><td>1.684816</td><td>0.787264</td><td>0.891042</td><td>0.701485</td><td>0.067443</td><td>0.091266</td><td>0.121055</td><td>0.078925</td><td>14.01376</td><td>0.059503</td></tr><tr><td>&hellip;</td><td>&hellip;</td><td>&hellip;</td><td>&hellip;</td><td>&hellip;</td><td>&hellip;</td><td>&hellip;</td><td>&hellip;</td><td>&hellip;</td><td>&hellip;</td><td>&hellip;</td><td>&hellip;</td><td>&hellip;</td><td>&hellip;</td><td>&hellip;</td><td>&hellip;</td><td>&hellip;</td><td>&hellip;</td><td>&hellip;</td><td>&hellip;</td><td>&hellip;</td><td>&hellip;</td><td>&hellip;</td><td>&hellip;</td><td>&hellip;</td><td>&hellip;</td><td>&hellip;</td><td>&hellip;</td><td>&hellip;</td><td>&hellip;</td><td>&hellip;</td><td>&hellip;</td><td>&hellip;</td><td>&hellip;</td><td>&hellip;</td><td>&hellip;</td><td>&hellip;</td><td>&hellip;</td><td>&hellip;</td><td>&hellip;</td><td>&hellip;</td><td>&hellip;</td><td>&hellip;</td><td>&hellip;</td><td>&hellip;</td><td>&hellip;</td><td>&hellip;</td><td>&hellip;</td><td>&hellip;</td><td>&hellip;</td><td>&hellip;</td><td>&hellip;</td><td>&hellip;</td><td>&hellip;</td><td>&hellip;</td><td>&hellip;</td><td>&hellip;</td><td>&hellip;</td><td>&hellip;</td><td>&hellip;</td><td>&hellip;</td><td>&hellip;</td><td>&hellip;</td><td>&hellip;</td><td>&hellip;</td><td>&hellip;</td><td>&hellip;</td><td>&hellip;</td><td>&hellip;</td><td>&hellip;</td><td>&hellip;</td><td>&hellip;</td><td>&hellip;</td><td>&hellip;</td><td>&hellip;</td></tr><tr><td>1912</td><td>2450.0</td><td>9523.5</td><td>1961.5</td><td>2676.5</td><td>15086.0</td><td>15440.0</td><td>15085.0</td><td>4461.5</td><td>4467.0</td><td>311.7</td><td>15284.0</td><td>15670.0</td><td>15288.0</td><td>4514.0</td><td>4525.0</td><td>327.2</td><td>14885.5</td><td>15267.0</td><td>14886.0</td><td>4454.5</td><td>4458.0</td><td>306.9</td><td>15127.5</td><td>15545.0</td><td>15140.0</td><td>4492.0</td><td>4506.0</td><td>324.5</td><td>26646.0</td><td>3390.0</td><td>29654.0</td><td>336.0</td><td>5540.0</td><td>970.0</td><td>15140.0</td><td>15001.0</td><td>&hellip;</td><td>0.645542</td><td>103.883575</td><td>173.626094</td><td>1.740037</td><td>0.840799</td><td>162.869297</td><td>1.123267</td><td>2.069503</td><td>193.70769</td><td>1.335952</td><td>85.96669</td><td>0.59289</td><td>0.835105</td><td>144.99602</td><td>8.017131</td><td>0.055292</td><td>0.096955</td><td>0.086315</td><td>0.716458</td><td>1.088806</td><td>0.938046</td><td>1.567806</td><td>0.901019</td><td>1.11566</td><td>1.894563</td><td>0.539096</td><td>2.253288</td><td>1.864661</td><td>0.598318</td><td>0.827529</td><td>0.495125</td><td>0.049224</td><td>0.072574</td><td>0.080968</td><td>0.046175</td><td>14.058107</td><td>0.041388</td></tr><tr><td>1913</td><td>2471.5</td><td>9519.5</td><td>1980.5</td><td>2710.5</td><td>15165.0</td><td>15509.0</td><td>15162.0</td><td>4495.0</td><td>4490.0</td><td>324.2</td><td>15243.5</td><td>15638.0</td><td>15245.0</td><td>4568.0</td><td>4575.0</td><td>328.5</td><td>15010.0</td><td>15440.0</td><td>15010.0</td><td>4481.0</td><td>4483.0</td><td>315.0</td><td>15021.5</td><td>15443.0</td><td>15021.0</td><td>4542.0</td><td>4554.0</td><td>323.3</td><td>11454.0</td><td>1268.0</td><td>18955.0</td><td>620.0</td><td>5953.0</td><td>613.0</td><td>15021.0</td><td>14885.0</td><td>&hellip;</td><td>0.6424</td><td>103.761239</td><td>174.564645</td><td>1.757104</td><td>0.842549</td><td>162.917843</td><td>1.128764</td><td>2.085463</td><td>193.363106</td><td>1.339701</td><td>85.539767</td><td>0.592656</td><td>0.826817</td><td>144.33299</td><td>8.049618</td><td>0.055771</td><td>0.097568</td><td>0.086438</td><td>0.718902</td><td>1.083934</td><td>0.933281</td><td>1.570122</td><td>0.893585</td><td>1.107688</td><td>1.904586</td><td>0.531147</td><td>2.260505</td><td>1.863539</td><td>0.5944</td><td>0.82439</td><td>0.490018</td><td>0.049409</td><td>0.072828</td><td>0.080671</td><td>0.046113</td><td>14.082236</td><td>0.04163</td></tr><tr><td>1914</td><td>2471.5</td><td>9533.5</td><td>1974.0</td><td>2693.0</td><td>15040.0</td><td>15477.0</td><td>15044.0</td><td>4544.5</td><td>4555.0</td><td>322.6</td><td>15451.0</td><td>15630.0</td><td>15453.0</td><td>4748.0</td><td>4765.0</td><td>323.4</td><td>15040.0</td><td>15462.0</td><td>15043.0</td><td>4541.5</td><td>4552.0</td><td>317.4</td><td>15416.5</td><td>15630.0</td><td>15420.0</td><td>4655.5</td><td>4660.0</td><td>320.2</td><td>17096.0</td><td>461.0</td><td>26520.0</td><td>1004.0</td><td>14036.0</td><td>335.0</td><td>15420.0</td><td>15293.0</td><td>&hellip;</td><td>0.643271</td><td>103.706934</td><td>174.224055</td><td>1.761406</td><td>0.844414</td><td>162.888974</td><td>1.133061</td><td>2.085951</td><td>192.901849</td><td>1.341832</td><td>85.287709</td><td>0.593264</td><td>0.825145</td><td>143.760108</td><td>7.997087</td><td>0.055628</td><td>0.098265</td><td>0.086725</td><td>0.721389</td><td>1.084291</td><td>0.93494</td><td>1.570666</td><td>0.891712</td><td>1.107206</td><td>1.909876</td><td>0.530792</td><td>2.261778</td><td>1.860067</td><td>0.59525</td><td>0.822392</td><td>0.489529</td><td>0.049095</td><td>0.073232</td><td>0.081083</td><td>0.045901</td><td>14.126606</td><td>0.041457</td></tr><tr><td>1915</td><td>2456.0</td><td>9500.5</td><td>1970.0</td><td>2697.5</td><td>15420.0</td><td>15752.0</td><td>15420.0</td><td>4670.0</td><td>4685.0</td><td>320.2</td><td>15505.5</td><td>15850.0</td><td>15509.0</td><td>4768.0</td><td>4780.0</td><td>322.9</td><td>15315.0</td><td>15713.0</td><td>15316.0</td><td>4661.0</td><td>4670.0</td><td>319.0</td><td>15450.0</td><td>15835.0</td><td>15454.0</td><td>4703.0</td><td>4722.0</td><td>321.9</td><td>12118.0</td><td>1887.0</td><td>25000.0</td><td>854.0</td><td>9061.0</td><td>256.0</td><td>15454.0</td><td>15307.0</td><td>&hellip;</td><td>0.64095</td><td>103.80551</td><td>173.651555</td><td>1.760087</td><td>0.840737</td><td>162.295173</td><td>1.128127</td><td>2.093505</td><td>193.03919</td><td>1.341831</td><td>84.83234</td><td>0.589677</td><td>0.828455</td><td>143.862499</td><td>7.985724</td><td>0.055509</td><td>0.097978</td><td>0.08685</td><td>0.721561</td><td>1.086951</td><td>0.934602</td><td>1.563454</td><td>0.888282</td><td>1.111647</td><td>1.913129</td><td>0.530998</td><td>2.275538</td><td>1.859624</td><td>0.59778</td><td>0.817224</td><td>0.48852</td><td>0.049205</td><td>0.073018</td><td>0.08117</td><td>0.045987</td><td>14.095322</td><td>0.041368</td></tr><tr><td>1916</td><td>2463.5</td><td>9610.0</td><td>1991.0</td><td>2701.5</td><td>15416.0</td><td>15802.0</td><td>15415.0</td><td>4730.5</td><td>4751.0</td><td>322.0</td><td>15460.0</td><td>15805.0</td><td>15464.0</td><td>4758.0</td><td>4767.0</td><td>325.8</td><td>15279.5</td><td>15682.0</td><td>15284.0</td><td>4680.5</td><td>4704.0</td><td>319.5</td><td>15450.0</td><td>15799.0</td><td>15461.0</td><td>4742.5</td><td>4764.0</td><td>320.0</td><td>15367.0</td><td>1492.0</td><td>30697.0</td><td>676.0</td><td>8482.0</td><td>215.0</td><td>15461.0</td><td>15322.0</td><td>&hellip;</td><td>0.6496</td><td>103.789423</td><td>173.664295</td><td>1.750315</td><td>0.839489</td><td>162.103149</td><td>1.137004</td><td>2.084976</td><td>193.097328</td><td>1.3544</td><td>85.337642</td><td>0.598565</td><td>0.820954</td><td>142.570385</td><td>7.995042</td><td>0.056078</td><td>0.09895</td><td>0.087027</td><td>0.727987</td><td>1.085262</td><td>0.933428</td><td>1.561847</td><td>0.892323</td><td>1.1119</td><td>1.89955</td><td>0.533292</td><td>2.262745</td><td>1.860472</td><td>0.597644</td><td>0.822219</td><td>0.491394</td><td>0.049321</td><td>0.073058</td><td>0.081233</td><td>0.046037</td><td>14.107311</td><td>0.041404</td></tr></tbody></table></div>"
      ],
      "text/plain": [
       "shape: (1_917, 558)\n",
       "┌─────────┬────────────┬───────────┬───────────┬───┬───────────┬───────────┬───────────┬───────────┐\n",
       "│ date_id ┆ LME_AH_Clo ┆ LME_CA_Cl ┆ LME_PB_Cl ┆ … ┆ FX_NOKCHF ┆ FX_ZARCHF ┆ FX_NOKJPY ┆ FX_ZARGBP │\n",
       "│ ---     ┆ se         ┆ ose       ┆ ose       ┆   ┆ ---       ┆ ---       ┆ ---       ┆ ---       │\n",
       "│ i64     ┆ ---        ┆ ---       ┆ ---       ┆   ┆ f64       ┆ f64       ┆ f64       ┆ f64       │\n",
       "│         ┆ f64        ┆ f64       ┆ f64       ┆   ┆           ┆           ┆           ┆           │\n",
       "╞═════════╪════════════╪═══════════╪═══════════╪═══╪═══════════╪═══════════╪═══════════╪═══════════╡\n",
       "│ 0       ┆ 2264.5     ┆ 7205.0    ┆ 2570.0    ┆ … ┆ 0.11963   ┆ 0.078135  ┆ 13.82274  ┆ 0.059163  │\n",
       "│ 1       ┆ 2228.0     ┆ 7147.0    ┆ 2579.0    ┆ … ┆ 0.12052   ┆ 0.079066  ┆ 13.888146 ┆ 0.059895  │\n",
       "│ 2       ┆ 2250.0     ┆ 7188.5    ┆ 2587.0    ┆ … ┆ 0.120809  ┆ 0.079287  ┆ 13.983675 ┆ 0.060037  │\n",
       "│ 3       ┆ 2202.5     ┆ 7121.0    ┆ 2540.0    ┆ … ┆ 0.121021  ┆ 0.079285  ┆ 14.035571 ┆ 0.059983  │\n",
       "│ 4       ┆ 2175.0     ┆ 7125.0    ┆ 2604.0    ┆ … ┆ 0.121055  ┆ 0.078925  ┆ 14.01376  ┆ 0.059503  │\n",
       "│ …       ┆ …          ┆ …         ┆ …         ┆ … ┆ …         ┆ …         ┆ …         ┆ …         │\n",
       "│ 1912    ┆ 2450.0     ┆ 9523.5    ┆ 1961.5    ┆ … ┆ 0.080968  ┆ 0.046175  ┆ 14.058107 ┆ 0.041388  │\n",
       "│ 1913    ┆ 2471.5     ┆ 9519.5    ┆ 1980.5    ┆ … ┆ 0.080671  ┆ 0.046113  ┆ 14.082236 ┆ 0.04163   │\n",
       "│ 1914    ┆ 2471.5     ┆ 9533.5    ┆ 1974.0    ┆ … ┆ 0.081083  ┆ 0.045901  ┆ 14.126606 ┆ 0.041457  │\n",
       "│ 1915    ┆ 2456.0     ┆ 9500.5    ┆ 1970.0    ┆ … ┆ 0.08117   ┆ 0.045987  ┆ 14.095322 ┆ 0.041368  │\n",
       "│ 1916    ┆ 2463.5     ┆ 9610.0    ┆ 1991.0    ┆ … ┆ 0.081233  ┆ 0.046037  ┆ 14.107311 ┆ 0.041404  │\n",
       "└─────────┴────────────┴───────────┴───────────┴───┴───────────┴───────────┴───────────┴───────────┘"
      ]
     },
     "execution_count": 14,
     "metadata": {},
     "output_type": "execute_result"
    }
   ],
   "source": [
    "train_df = pl.read_csv(base_dir + train_dir)\n",
    "train_df"
   ]
  },
  {
   "cell_type": "code",
   "execution_count": 5,
   "id": "da1d5910",
   "metadata": {},
   "outputs": [],
   "source": [
    "from itertools import combinations\n",
    "\n",
    "def create_features(df):\n",
    "    feature_cols = [col for col in df.columns if col != 'date_id']\n",
    "    lag_days = [1, 2, 3, 5, 10, 20]\n",
    "    windows = [3, 5, 10, 15, 20]\n",
    "    change_days = [1, 3, 5, 7, 14, 21]\n",
    "    exprs = []\n",
    "    \n",
    "    lag_exprs = [\n",
    "        pl.col(col).shift(day).alias(f'{col}_lag_{day}')\n",
    "        for col in feature_cols\n",
    "        for day in lag_days\n",
    "    ]\n",
    "    \n",
    "    rolling_exprs = [\n",
    "        expr.alias(f'{col}_rolling_{stat_name}_{window}')\n",
    "        for col in feature_cols\n",
    "        for window in windows\n",
    "        for stat_name, expr in [\n",
    "            ('mean', pl.col(col).rolling_mean(window_size=window)),\n",
    "            ('std', pl.col(col).rolling_std(window_size=window)),\n",
    "            ('max', pl.col(col).rolling_max(window_size=window)),\n",
    "            ('min', pl.col(col).rolling_min(window_size=window)),\n",
    "        ]\n",
    "    ]\n",
    "    \n",
    "    change_exprs = [\n",
    "        pl.col(col).pct_change(n=day).alias(f'change_{col}_{day}')\n",
    "        for col in feature_cols\n",
    "        for day in change_days\n",
    "    ]\n",
    "    \n",
    "    exprs.extend(lag_exprs)\n",
    "    exprs.extend(rolling_exprs)\n",
    "    exprs.extend(change_exprs)\n",
    "\n",
    "    for col1, col2 in combinations(feature_cols, 2):\n",
    "        exprs.append(\n",
    "            (pl.col(col1) - pl.col(col2)).alias(f'spread_{col1}_vs_{col2}')\n",
    "        )\n",
    "        exprs.append(\n",
    "            pl.corr(col1, col2).alias(f'corr_{col1}_vs_{col2}')\n",
    "        )\n",
    "        \n",
    "    df_features = df.with_columns(exprs).fill_null(strategy=\"forward\")\n",
    "    \n",
    "    return df_features"
   ]
  },
  {
   "cell_type": "code",
   "execution_count": null,
   "id": "a901aa7a",
   "metadata": {},
   "outputs": [
    {
     "name": "stderr",
     "output_type": "stream",
     "text": [
      "\n",
      "KeyboardInterrupt\n",
      "\n"
     ]
    }
   ],
   "source": [
    "train_df_features = create_features(train_df)\n",
    "train_df_features"
   ]
  },
  {
   "cell_type": "code",
   "execution_count": null,
   "id": "91739aa0",
   "metadata": {},
   "outputs": [
    {
     "data": {
      "text/plain": [
       "'US_Stock_VT_adj_close'"
      ]
     },
     "execution_count": 9,
     "metadata": {},
     "output_type": "execute_result"
    }
   ],
   "source": [
    "target_pairs = pl.read_csv(base_dir + target_pairs_dir)\n",
    "target_pairs\n",
    "target_1 = target_pairs.filter(pl.col('target') == 'target_1')\\\n",
    "                       .select('pair')\\\n",
    "                       .item()\n",
    "                        \n",
    "target_1\n",
    "com1, com2 = target_1.split(' - ')"
   ]
  },
  {
   "cell_type": "code",
   "execution_count": 11,
   "id": "b2eb2def",
   "metadata": {},
   "outputs": [
    {
     "data": {
      "text/plain": [
       "-0.0028513218171679"
      ]
     },
     "execution_count": 11,
     "metadata": {},
     "output_type": "execute_result"
    }
   ],
   "source": [
    "train_labels = pl.read_csv(base_dir + train_labels_dir)\n",
    "train_labels\n",
    "train_label_val = train_labels.filter(pl.col('date_id') == 0)\\\n",
    "                              .select('target_1')\\\n",
    "                              .item()\n",
    "train_label_val"
   ]
  },
  {
   "cell_type": "code",
   "execution_count": null,
   "id": "4cc8243c",
   "metadata": {},
   "outputs": [
    {
     "data": {
      "text/plain": [
       "(2570.0, 63.9271)"
      ]
     },
     "execution_count": 21,
     "metadata": {},
     "output_type": "execute_result"
    }
   ],
   "source": [
    "train_df_filtered = train_df.select(['date_id', com1, com2])\\\n",
    "                            .filter(pl.col('date_id') == 0)\n",
    "train_df_filtered\n",
    "\n",
    "val1 = train_df_filtered.select(com1)\\\n",
    "                        .item()\n",
    "val2 = train_df_filtered.select(com2)\\\n",
    "                        .item()\n",
    "                        \n",
    "val1, val2\n",
    "\n"
   ]
  },
  {
   "cell_type": "code",
   "execution_count": null,
   "id": "5d6601dd",
   "metadata": {},
   "outputs": [],
   "source": [
    "train_labels = pl.read_csv(base_dir + train_labels_dir)\n",
    "train_labels"
   ]
  },
  {
   "cell_type": "code",
   "execution_count": null,
   "id": "d585bf37",
   "metadata": {},
   "outputs": [],
   "source": [
    "target_pairs = pl.read_csv(base_dir + target_pairs_dir)\n",
    "target_pairs"
   ]
  },
  {
   "cell_type": "code",
   "execution_count": null,
   "id": "38a34836",
   "metadata": {},
   "outputs": [
    {
     "name": "stdout",
     "output_type": "stream",
     "text": [
      "🎯 Preparing to predict for: target_1\n",
      "Definition: Return(LME_PB_Close) - Return(US_Stock_VT_adj_close) with lag=1\n",
      "--------------------------------------------------\n",
      "🏋️  Training the Ridge model on data before date_id 1827...\n",
      "✅ Model trained! Formula: Prediction = (-0.0137 * Feature) + -0.0005\n",
      "--------------------------------------------------\n",
      "📈 Making predictions for all dates from 1827 onwards...\n",
      "\n",
      "✨ Comparison of Predictions vs. Actuals (First 5 Rows):\n",
      "shape: (5, 3)\n",
      "┌─────────┬────────────┬───────────┐\n",
      "│ date_id ┆ prediction ┆ target_1  │\n",
      "│ ---     ┆ ---        ┆ ---       │\n",
      "│ i64     ┆ f64        ┆ f64       │\n",
      "╞═════════╪════════════╪═══════════╡\n",
      "│ 1828    ┆ -0.000409  ┆ -0.004592 │\n",
      "│ 1829    ┆ -0.000409  ┆ -0.014539 │\n",
      "│ 1830    ┆ -0.000409  ┆ -0.005226 │\n",
      "│ 1831    ┆ -0.000485  ┆ 0.016613  │\n",
      "│ 1832    ┆ -0.000349  ┆ -0.013144 │\n",
      "└─────────┴────────────┴───────────┘\n",
      "\n",
      "🎯 Mean Squared Error on Test Set: 0.00033464\n"
     ]
    }
   ],
   "source": [
    "import polars as pl\n",
    "import numpy as np\n",
    "from sklearn.linear_model import Ridge\n",
    "from sklearn.metrics import mean_squared_error\n",
    "\n",
    "required_cols = [\"date_id\", \"LME_PB_Close\", \"US_Stock_VT_adj_close\"]\n",
    "train_df = pl.read_csv('../data/mitsui-commodity-prediction-challenge/train.csv', columns=required_cols)\n",
    "train_labels_df = pl.read_csv('../data/mitsui-commodity-prediction-challenge/train_labels.csv', columns=[\"date_id\", \"target_1\"])\n",
    "TEST_START_DATE = 1827\n",
    "\n",
    "\n",
    "target_name = 'target_1'\n",
    "lag = 1\n",
    "asset_a = 'LME_PB_Close'\n",
    "asset_b = 'US_Stock_VT_adj_close'\n",
    "feature_name = 'engineered_feature_for_target_1'\n",
    "\n",
    "train_data_actual = train_df.filter(pl.col('date_id') < TEST_START_DATE)\n",
    "test_data_actual = train_df.filter(pl.col('date_id') >= TEST_START_DATE)\n",
    "train_labels_actual = train_labels_df.filter(pl.col('date_id') < TEST_START_DATE)\n",
    "\n",
    "log_return_a = (pl.col(asset_a).shift(1) / pl.col(asset_a).shift(1 + lag)).log()\n",
    "log_return_b = (pl.col(asset_b).shift(1) / pl.col(asset_b).shift(1 + lag)).log()\n",
    "engineered_feature_expr = (log_return_a - log_return_b).alias(feature_name)\n",
    "\n",
    "train_with_features = train_data_actual.with_columns(engineered_feature_expr)\n",
    "training_data_final = train_with_features.join(train_labels_actual, on='date_id')\n",
    "training_data_final = training_data_final.drop_nulls(subset=[feature_name, target_name])\n",
    "\n",
    "X_train = training_data_final.select(feature_name).to_numpy()\n",
    "y_train = training_data_final.select(target_name).to_numpy().ravel()\n",
    "\n",
    "model = Ridge(alpha=1.0)\n",
    "model.fit(X_train, y_train)\n",
    "\n",
    "learned_coefficient = model.coef_[0]\n",
    "learned_intercept = model.intercept_\n",
    "print(f\"✅ Model trained! Formula: Prediction = ({learned_coefficient:.4f} * Feature) + {learned_intercept:.4f}\")\n",
    "print(\"-\" * 50)\n",
    "\n",
    "combined_for_prediction = pl.concat([\n",
    "    train_data_actual.tail(lag + 1),\n",
    "    test_data_actual\n",
    "])\n",
    "\n",
    "prediction_data_with_feature = combined_for_prediction.with_columns(engineered_feature_expr)\n",
    "test_features_df = prediction_data_with_feature.filter(pl.col('date_id') >= TEST_START_DATE)\n",
    "\n",
    "X_pred = test_features_df.select(\n",
    "    pl.col(feature_name).fill_null(strategy='forward')\n",
    ").to_numpy()\n",
    "\n",
    "all_predictions = model.predict(X_pred)\n",
    "\n",
    "results_df = test_features_df.select(\"date_id\").with_columns(\n",
    "    pl.Series(name=\"prediction\", values=all_predictions)\n",
    ")\n",
    "\n",
    "comparison_df = results_df.join(train_labels_df, on='date_id', how='left')\n",
    "comparison_df = comparison_df.drop_nulls()\n",
    "\n",
    "print(comparison_df.head())\n",
    "\n",
    "mse = mean_squared_error(comparison_df.select('target_1'), comparison_df.select('prediction'))\n",
    "print(f\"\\n🎯 Mean Squared Error on Test Set: {mse:.8f}\")"
   ]
  }
 ],
 "metadata": {
  "kernelspec": {
   "display_name": ".venv",
   "language": "python",
   "name": "python3"
  },
  "language_info": {
   "codemirror_mode": {
    "name": "ipython",
    "version": 3
   },
   "file_extension": ".py",
   "mimetype": "text/x-python",
   "name": "python",
   "nbconvert_exporter": "python",
   "pygments_lexer": "ipython3",
   "version": "3.13.7"
  }
 },
 "nbformat": 4,
 "nbformat_minor": 5
}
